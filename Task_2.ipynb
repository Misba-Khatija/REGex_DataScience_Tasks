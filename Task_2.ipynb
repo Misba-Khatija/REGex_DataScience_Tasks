{
 "cells": [
  {
   "cell_type": "markdown",
   "id": "2da7c997",
   "metadata": {},
   "source": [
    "## <center> Task 2 </center>"
   ]
  },
  {
   "cell_type": "markdown",
   "id": "459ed536",
   "metadata": {},
   "source": [
    "### Registration ID SIRSS2143"
   ]
  },
  {
   "cell_type": "markdown",
   "id": "54da3474",
   "metadata": {},
   "source": [
    "### Misba Khatija A"
   ]
  },
  {
   "cell_type": "markdown",
   "id": "db118105",
   "metadata": {},
   "source": [
    "### Write a lambda expression to extract first word of a string."
   ]
  },
  {
   "cell_type": "code",
   "execution_count": 7,
   "id": "e369ceb5",
   "metadata": {},
   "outputs": [
    {
     "data": {
      "text/plain": [
       "'May'"
      ]
     },
     "execution_count": 7,
     "metadata": {},
     "output_type": "execute_result"
    }
   ],
   "source": [
    "a = 'May the force be with you'\n",
    "b = lambda str: str.split()[0]\n",
    "b(a)"
   ]
  },
  {
   "cell_type": "markdown",
   "id": "c0977cfe",
   "metadata": {},
   "source": [
    "### Write a function to extract first word of s string (with many words separated by space)."
   ]
  },
  {
   "cell_type": "code",
   "execution_count": 8,
   "id": "31b3b206",
   "metadata": {},
   "outputs": [
    {
     "name": "stdout",
     "output_type": "stream",
     "text": [
      "May\n"
     ]
    }
   ],
   "source": [
    "def f_name(str):\n",
    "    return str.split()[0]\n",
    "\n",
    "print(f_name(a))"
   ]
  },
  {
   "cell_type": "markdown",
   "id": "fb576cd4",
   "metadata": {},
   "source": [
    "### Extract the first word from every string from a list of strings by using map function."
   ]
  },
  {
   "cell_type": "code",
   "execution_count": 9,
   "id": "5d66194a",
   "metadata": {},
   "outputs": [
    {
     "data": {
      "text/plain": [
       "['Darth', 'Luke', 'Princess', 'Han', 'Kylo']"
      ]
     },
     "execution_count": 9,
     "metadata": {},
     "output_type": "execute_result"
    }
   ],
   "source": [
    "starwars = ['Darth Vader', 'Luke Skywalker', 'Princess Leia', 'Han Solo', 'Kylo Ren']\n",
    "list(map(lambda s: s.split()[0], starwars))"
   ]
  },
  {
   "cell_type": "markdown",
   "id": "09ee3410",
   "metadata": {},
   "source": [
    "### Write a function to return a list of prime factors of a given number."
   ]
  },
  {
   "cell_type": "code",
   "execution_count": 10,
   "id": "80a9b5fd",
   "metadata": {},
   "outputs": [
    {
     "name": "stdout",
     "output_type": "stream",
     "text": [
      "Enter the number: 990\n",
      "[2, 3, 3, 5, 11]\n"
     ]
    }
   ],
   "source": [
    "def prime(x):\n",
    "    factors = []\n",
    "    divisor = 2\n",
    "    while divisor <= x:\n",
    "        if x%divisor == 0:\n",
    "            factors.append(divisor)\n",
    "            x = x/divisor \n",
    "        else:\n",
    "            divisor += 1 \n",
    "    return factors\n",
    "\n",
    "num = input('Enter the number: ')\n",
    "print(prime(int(num)))"
   ]
  },
  {
   "cell_type": "markdown",
   "id": "842a7be2",
   "metadata": {},
   "source": [
    "### Write a function that finds 2nd largest among 4 numbers (Repetitions are allowed, without sorting)."
   ]
  },
  {
   "cell_type": "code",
   "execution_count": 11,
   "id": "c976d56c",
   "metadata": {},
   "outputs": [
    {
     "name": "stdout",
     "output_type": "stream",
     "text": [
      "9 7 2 7 0\n",
      "7\n"
     ]
    }
   ],
   "source": [
    "a = input()\n",
    "l1 = a.split()\n",
    "\n",
    "l1 = set(l1)\n",
    "\n",
    "def second_largest():\n",
    "    \n",
    "    l1.remove(max(l1))\n",
    "    \n",
    "    print(max(l1))\n",
    "    \n",
    "second_largest()\n"
   ]
  }
 ],
 "metadata": {
  "kernelspec": {
   "display_name": "Python 3",
   "language": "python",
   "name": "python3"
  },
  "language_info": {
   "codemirror_mode": {
    "name": "ipython",
    "version": 3
   },
   "file_extension": ".py",
   "mimetype": "text/x-python",
   "name": "python",
   "nbconvert_exporter": "python",
   "pygments_lexer": "ipython3",
   "version": "3.8.8"
  }
 },
 "nbformat": 4,
 "nbformat_minor": 5
}
