{
 "cells": [
  {
   "cell_type": "markdown",
   "id": "1e5aebb6",
   "metadata": {},
   "source": [
    "# Task 4"
   ]
  },
  {
   "cell_type": "markdown",
   "id": "4ee56a2a",
   "metadata": {},
   "source": [
    "### Registration ID SIRSS2143"
   ]
  },
  {
   "cell_type": "markdown",
   "id": "3f0cf575",
   "metadata": {},
   "source": [
    "### Misba Khatija A"
   ]
  },
  {
   "cell_type": "markdown",
   "id": "c7f7fe11",
   "metadata": {},
   "source": [
    "#### Given a list of integers, write a function to return the sum of all prime numbers in that list."
   ]
  },
  {
   "cell_type": "code",
   "execution_count": 31,
   "id": "d566ea96",
   "metadata": {},
   "outputs": [
    {
     "name": "stdout",
     "output_type": "stream",
     "text": [
      "Enter lower range: 2\n",
      "Enter upper range: 20\n",
      "Prime numbers between 2 and 20 are:\n",
      "2\n",
      "3\n",
      "5\n",
      "7\n",
      "11\n",
      "13\n",
      "17\n",
      "19\n",
      "[2, 3, 5, 7, 11, 13, 17, 19]\n",
      "sum of all prime numbers=77\n"
     ]
    }
   ],
   "source": [
    "lower = int(input(\"Enter lower range: \"))\n",
    "upper = int(input(\"Enter upper range: \"))\n",
    "lst=[]\n",
    "print(\"Prime numbers between\",lower,\"and\",upper,\"are:\")\n",
    "\n",
    "for num in range(lower,upper + 1):\n",
    "   if num > 1:\n",
    "       for i in range(2,num):\n",
    "           if (num % i) == 0:\n",
    "               break\n",
    "       else:\n",
    "           print(num)\n",
    "           lst.append(num)\n",
    "print(lst)\n",
    "sum=0\n",
    "for i in lst:\n",
    "    sum=sum+i\n",
    "print('sum of all prime numbers=%d'%sum)"
   ]
  },
  {
   "cell_type": "markdown",
   "id": "69a096a3",
   "metadata": {},
   "source": [
    "#### Given a list of integers, write a function to check whether the list is strictly increasing or not."
   ]
  },
  {
   "cell_type": "code",
   "execution_count": 32,
   "id": "2bc39b08",
   "metadata": {},
   "outputs": [
    {
     "name": "stdout",
     "output_type": "stream",
     "text": [
      "Strictly increasing\n",
      "Strictly decreasing\n"
     ]
    }
   ],
   "source": [
    "def order(arr):\n",
    "    for i in range(1, len(arr)):\n",
    "        if arr[i] > arr[i - 1]:\n",
    "            return 'Strictly increasing'\n",
    "    return 'Strictly decreasing'\n",
    "\n",
    "print(order([10,20,30,40,50]))\n",
    "print(order([5,4,3,2,1]))"
   ]
  },
  {
   "cell_type": "markdown",
   "id": "63af5e4b",
   "metadata": {},
   "source": [
    "#### Write a function to check whether a given list is expanding or not (the difference between adjacent elements should keep on increasing)."
   ]
  },
  {
   "cell_type": "code",
   "execution_count": 33,
   "id": "00939fad",
   "metadata": {},
   "outputs": [
    {
     "name": "stdout",
     "output_type": "stream",
     "text": [
      "True\n",
      "False\n"
     ]
    }
   ],
   "source": [
    "def expanding(l):\n",
    "    dif = abs(l[1] - l[0])\n",
    "    for i in range(1, len(l)-1):\n",
    "        temp = abs(l[i+1] - l[i])\n",
    "        if temp < dif:\n",
    "            return False\n",
    "        else:\n",
    "            dif = temp\n",
    "    return True\n",
    "\n",
    "print(expanding([1,3,7,2,-3]))\n",
    "print(expanding([9,3,8,0]))"
   ]
  },
  {
   "cell_type": "markdown",
   "id": "7ee7c10e",
   "metadata": {},
   "source": [
    "#### Write a function to calculate all permutations of a given string. (Without using itertools)"
   ]
  },
  {
   "cell_type": "code",
   "execution_count": 34,
   "id": "7eceb63f",
   "metadata": {},
   "outputs": [
    {
     "name": "stdout",
     "output_type": "stream",
     "text": [
      "x\n",
      "y\n",
      "z\n",
      "xy\n",
      "xz\n",
      "yx\n",
      "yz\n",
      "zx\n",
      "zy\n",
      "xyz\n",
      "xzy\n",
      "yxz\n",
      "yzx\n",
      "zxy\n",
      "zyx\n",
      "None\n"
     ]
    }
   ],
   "source": [
    "def all_permutations(given_string):\n",
    "    for i in range(len(given_string)):\n",
    "        permute('', given_string, i+1)\n",
    "\n",
    "def permute(prefix, given_string, max_len):\n",
    "    if len(given_string) <= 0 or len(prefix) >= max_len:\n",
    "        print(prefix)\n",
    "    else:\n",
    "        for i in range(len(given_string)):\n",
    "            permute(prefix + given_string[i], given_string[:i] + given_string[i+1:], max_len)\n",
    "            \n",
    "print(all_permutations('xyz'))"
   ]
  },
  {
   "cell_type": "code",
   "execution_count": null,
   "id": "862850d5",
   "metadata": {},
   "outputs": [],
   "source": []
  }
 ],
 "metadata": {
  "kernelspec": {
   "display_name": "Python 3",
   "language": "python",
   "name": "python3"
  },
  "language_info": {
   "codemirror_mode": {
    "name": "ipython",
    "version": 3
   },
   "file_extension": ".py",
   "mimetype": "text/x-python",
   "name": "python",
   "nbconvert_exporter": "python",
   "pygments_lexer": "ipython3",
   "version": "3.8.8"
  }
 },
 "nbformat": 4,
 "nbformat_minor": 5
}
