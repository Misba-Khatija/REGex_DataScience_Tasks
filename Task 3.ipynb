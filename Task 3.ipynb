{
 "cells": [
  {
   "cell_type": "markdown",
   "id": "2cb762ed",
   "metadata": {},
   "source": [
    "# Task 3\n",
    "### Registration ID   SIRSS2143\n",
    "### Misba Khatija A"
   ]
  },
  {
   "cell_type": "markdown",
   "id": "8bf3ec1b",
   "metadata": {},
   "source": [
    "#### Write a function to return nth term of Fibonacci sequence."
   ]
  },
  {
   "cell_type": "code",
   "execution_count": 7,
   "id": "5a7f0fe6",
   "metadata": {},
   "outputs": [
    {
     "name": "stdout",
     "output_type": "stream",
     "text": [
      "\n",
      " Enter the number :\t5\n",
      "5th term of Fibonacci Series is 3\n"
     ]
    }
   ],
   "source": [
    "a=int(input(\"\\n Enter the number :\\t\"))\n",
    "def fibonacci(n):\n",
    "    if n<=0:\n",
    "        print(\"Incorrect Input\")\n",
    "    elif n == 1:\n",
    "        return 0\n",
    "    elif n == 2:\n",
    "        return 1\n",
    "    else:\n",
    "        return fibonacci(n-1)+fibonacci(n-2)\n",
    "    \n",
    "result=fibonacci(a)\n",
    "print(\"{0}th term of Fibonacci Series is {1}\".format(a,result))\n"
   ]
  },
  {
   "cell_type": "markdown",
   "id": "ff2b792d",
   "metadata": {},
   "source": [
    "#### Write a function to find out GCD of two numbers using EUCLID'S algorithm."
   ]
  },
  {
   "cell_type": "code",
   "execution_count": 8,
   "id": "52725e5e",
   "metadata": {},
   "outputs": [
    {
     "name": "stdout",
     "output_type": "stream",
     "text": [
      "\n",
      " Enter the First number :\t180\n",
      "\n",
      " Enter the Second number :\t90\n",
      "The GCD of 180 and 90 is 90\n"
     ]
    }
   ],
   "source": [
    "a=int(input(\"\\n Enter the First number :\\t\"))\n",
    "b=int(input(\"\\n Enter the Second number :\\t\"))\n",
    "c=min(a,b)\n",
    "result=1\n",
    "for i in range(2,c+1):\n",
    "    if((a%i==0) and (b%i==0)):\n",
    "        result=i\n",
    "        \n",
    "print(\"The GCD of {0} and {1} is {2}\".format(a,b,result))\n"
   ]
  },
  {
   "cell_type": "markdown",
   "id": "32711edd",
   "metadata": {},
   "source": [
    "#### Write a function to find LCM of two number in most optimizers way."
   ]
  },
  {
   "cell_type": "code",
   "execution_count": 9,
   "id": "01264b61",
   "metadata": {},
   "outputs": [
    {
     "name": "stdout",
     "output_type": "stream",
     "text": [
      "\n",
      " Enter the First number :\t24\n",
      "\n",
      " Enter the Second number :\t85\n",
      "The LCM of 24 and 85 is 2040\n"
     ]
    }
   ],
   "source": [
    "a=int(input(\"\\n Enter the First number :\\t\"))\n",
    "b=int(input(\"\\n Enter the Second number :\\t\"))\n",
    "c=max(a,b)\n",
    "while(True):\n",
    "    if((c%a==0) and (c%b==0)):\n",
    "        result=c\n",
    "        break\n",
    "    else:\n",
    "        c=c+1\n",
    "        \n",
    "print(\"The LCM of {0} and {1} is {2}\".format(a,b,result))"
   ]
  },
  {
   "cell_type": "code",
   "execution_count": null,
   "id": "b8b7aac6",
   "metadata": {},
   "outputs": [],
   "source": []
  }
 ],
 "metadata": {
  "kernelspec": {
   "display_name": "Python 3",
   "language": "python",
   "name": "python3"
  },
  "language_info": {
   "codemirror_mode": {
    "name": "ipython",
    "version": 3
   },
   "file_extension": ".py",
   "mimetype": "text/x-python",
   "name": "python",
   "nbconvert_exporter": "python",
   "pygments_lexer": "ipython3",
   "version": "3.8.8"
  }
 },
 "nbformat": 4,
 "nbformat_minor": 5
}
